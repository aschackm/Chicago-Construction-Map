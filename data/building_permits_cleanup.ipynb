{
 "cells": [
  {
   "cell_type": "code",
   "execution_count": 8,
   "metadata": {},
   "outputs": [],
   "source": [
    "import pandas as pd\n",
    "pd.set_option('display.max_colwidth', -1)"
   ]
  },
  {
   "cell_type": "code",
   "execution_count": 9,
   "metadata": {},
   "outputs": [],
   "source": [
    "building_permits_df = pd.read_csv('Building_Permits.csv',sep=\",\",header=0,low_memory=False)"
   ]
  },
  {
   "cell_type": "code",
   "execution_count": 10,
   "metadata": {},
   "outputs": [],
   "source": [
    "permits_nadrop_df = building_permits_df.dropna(how='any')"
   ]
  },
  {
   "cell_type": "code",
   "execution_count": 11,
   "metadata": {},
   "outputs": [
    {
     "data": {
      "text/html": [
       "<div>\n",
       "<style scoped>\n",
       "    .dataframe tbody tr th:only-of-type {\n",
       "        vertical-align: middle;\n",
       "    }\n",
       "\n",
       "    .dataframe tbody tr th {\n",
       "        vertical-align: top;\n",
       "    }\n",
       "\n",
       "    .dataframe thead th {\n",
       "        text-align: right;\n",
       "    }\n",
       "</style>\n",
       "<table border=\"1\" class=\"dataframe\">\n",
       "  <thead>\n",
       "    <tr style=\"text-align: right;\">\n",
       "      <th></th>\n",
       "      <th>ID</th>\n",
       "      <th>PERMIT#</th>\n",
       "      <th>PERMIT_TYPE</th>\n",
       "      <th>ISSUE_DATE</th>\n",
       "      <th>ESTIMATED_COST</th>\n",
       "      <th>LATITUDE</th>\n",
       "      <th>LONGITUDE</th>\n",
       "      <th>LOCATION</th>\n",
       "    </tr>\n",
       "  </thead>\n",
       "  <tbody>\n",
       "    <tr>\n",
       "      <th>2</th>\n",
       "      <td>1378485.0</td>\n",
       "      <td>100002267</td>\n",
       "      <td>PERMIT - RENOVATION/ALTERATION</td>\n",
       "      <td>3/10/06</td>\n",
       "      <td>45000.0</td>\n",
       "      <td>41.925857</td>\n",
       "      <td>-87.664452</td>\n",
       "      <td>(41.92585684158289, -87.66445154091303)</td>\n",
       "    </tr>\n",
       "    <tr>\n",
       "      <th>4</th>\n",
       "      <td>1381541.0</td>\n",
       "      <td>100004342</td>\n",
       "      <td>PERMIT - RENOVATION/ALTERATION</td>\n",
       "      <td>9/29/05</td>\n",
       "      <td>38000.0</td>\n",
       "      <td>41.910173</td>\n",
       "      <td>-87.690678</td>\n",
       "      <td>(41.91017264385976, -87.69067799640872)</td>\n",
       "    </tr>\n",
       "    <tr>\n",
       "      <th>11</th>\n",
       "      <td>1392510.0</td>\n",
       "      <td>100010675</td>\n",
       "      <td>PERMIT - NEW CONSTRUCTION</td>\n",
       "      <td>9/30/05</td>\n",
       "      <td>800000.0</td>\n",
       "      <td>41.894941</td>\n",
       "      <td>-87.649976</td>\n",
       "      <td>(41.89494059376751, -87.64997609685338)</td>\n",
       "    </tr>\n",
       "    <tr>\n",
       "      <th>13</th>\n",
       "      <td>1393747.0</td>\n",
       "      <td>100011654</td>\n",
       "      <td>PERMIT - NEW CONSTRUCTION</td>\n",
       "      <td>6/9/06</td>\n",
       "      <td>450000.0</td>\n",
       "      <td>41.948342</td>\n",
       "      <td>-87.654216</td>\n",
       "      <td>(41.94834184745331, -87.65421574924672)</td>\n",
       "    </tr>\n",
       "    <tr>\n",
       "      <th>16</th>\n",
       "      <td>1394091.0</td>\n",
       "      <td>100011918</td>\n",
       "      <td>PERMIT - NEW CONSTRUCTION</td>\n",
       "      <td>2/6/06</td>\n",
       "      <td>1500000.0</td>\n",
       "      <td>41.993060</td>\n",
       "      <td>-87.660508</td>\n",
       "      <td>(41.99305950561552, -87.6605083331167)</td>\n",
       "    </tr>\n",
       "  </tbody>\n",
       "</table>\n",
       "</div>"
      ],
      "text/plain": [
       "           ID    PERMIT#                     PERMIT_TYPE ISSUE_DATE  \\\n",
       "2   1378485.0  100002267  PERMIT - RENOVATION/ALTERATION  3/10/06     \n",
       "4   1381541.0  100004342  PERMIT - RENOVATION/ALTERATION  9/29/05     \n",
       "11  1392510.0  100010675  PERMIT - NEW CONSTRUCTION       9/30/05     \n",
       "13  1393747.0  100011654  PERMIT - NEW CONSTRUCTION       6/9/06      \n",
       "16  1394091.0  100011918  PERMIT - NEW CONSTRUCTION       2/6/06      \n",
       "\n",
       "    ESTIMATED_COST   LATITUDE  LONGITUDE  \\\n",
       "2   45000.0         41.925857 -87.664452   \n",
       "4   38000.0         41.910173 -87.690678   \n",
       "11  800000.0        41.894941 -87.649976   \n",
       "13  450000.0        41.948342 -87.654216   \n",
       "16  1500000.0       41.993060 -87.660508   \n",
       "\n",
       "                                   LOCATION  \n",
       "2   (41.92585684158289, -87.66445154091303)  \n",
       "4   (41.91017264385976, -87.69067799640872)  \n",
       "11  (41.89494059376751, -87.64997609685338)  \n",
       "13  (41.94834184745331, -87.65421574924672)  \n",
       "16  (41.99305950561552, -87.6605083331167)   "
      ]
     },
     "execution_count": 11,
     "metadata": {},
     "output_type": "execute_result"
    }
   ],
   "source": [
    "permits_nadrop_df.head()"
   ]
  },
  {
   "cell_type": "code",
   "execution_count": 12,
   "metadata": {},
   "outputs": [
    {
     "data": {
      "text/plain": [
       "Index(['ID', 'PERMIT#', 'PERMIT_TYPE', 'ISSUE_DATE', 'ESTIMATED_COST',\n",
       "       'LATITUDE', 'LONGITUDE', 'LOCATION'],\n",
       "      dtype='object')"
      ]
     },
     "execution_count": 12,
     "metadata": {},
     "output_type": "execute_result"
    }
   ],
   "source": [
    "permits_nadrop_df.columns"
   ]
  },
  {
   "cell_type": "code",
   "execution_count": 13,
   "metadata": {},
   "outputs": [],
   "source": [
    "from sqlalchemy import create_engine\n",
    "engine = create_engine('sqlite:///chidata.sqlite', echo=False)"
   ]
  },
  {
   "cell_type": "code",
   "execution_count": 14,
   "metadata": {},
   "outputs": [],
   "source": [
    "permits_nadrop_df.to_sql(name='building_permits',index=False,con=engine,if_exists='append')"
   ]
  },
  {
   "cell_type": "code",
   "execution_count": null,
   "metadata": {},
   "outputs": [],
   "source": []
  }
 ],
 "metadata": {
  "kernelspec": {
   "display_name": "Python [conda env:data]",
   "language": "python",
   "name": "conda-env-data-py"
  },
  "language_info": {
   "codemirror_mode": {
    "name": "ipython",
    "version": 3
   },
   "file_extension": ".py",
   "mimetype": "text/x-python",
   "name": "python",
   "nbconvert_exporter": "python",
   "pygments_lexer": "ipython3",
   "version": "3.6.5"
  }
 },
 "nbformat": 4,
 "nbformat_minor": 2
}
